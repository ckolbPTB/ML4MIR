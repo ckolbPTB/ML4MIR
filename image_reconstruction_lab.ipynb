{
 "cells": [
  {
   "cell_type": "markdown",
   "metadata": {},
   "source": [
    "## Machine Learning for Medical Image Reconstruction\n",
    "\n",
    "# Image Reconstruction Lab\n",
    "\n",
    "## Christoph Kolbitsch, PTB Berlin, Germany\n"
   ]
  },
  {
   "cell_type": "markdown",
   "metadata": {},
   "source": [
    "### Overview\n",
    "\n",
    "In the previous lectures we discussed several approaches of how deep learning can be used for image reconstruction. \n",
    "In this image reconstruction lab we are going to implement one of these approaches. \n",
    "\n",
    "We are going to learn:\n",
    "- how to read in MR raw data\n",
    "- understand the structure and parameters of MR raw data\n",
    "- create an acquisition model $A$ describing our data acquisition\n",
    "- carry out a standard conjugate-gradient based iterative reconstruction\n",
    "- extend this reconstruction by including a neural network\n",
    "- evaluate image quality"
   ]
  },
  {
   "cell_type": "markdown",
   "metadata": {},
   "source": [
    "### Important\n",
    "\n",
    "If you are running it thist notebook for the first time on your local computer or in Google colab then please ensure you have got MRpro (https://github.com/PTB-MR/mrpro) installed. For Google colab simply run \n",
    "```!pip install mrpro```."
   ]
  },
  {
   "cell_type": "code",
   "execution_count": null,
   "metadata": {},
   "outputs": [],
   "source": [
    "!pip install mrpro"
   ]
  },
  {
   "cell_type": "markdown",
   "metadata": {},
   "source": [
    "### Download MR raw data\n",
    "\n",
    "First we will download the MR raw data."
   ]
  },
  {
   "cell_type": "code",
   "execution_count": null,
   "metadata": {},
   "outputs": [],
   "source": [
    "import tempfile\n",
    "import requests\n",
    "\n",
    "# define zenodo records URL and create a temporary directory and h5-file\n",
    "zenodo_url = 'https://zenodo.org/records/14173489/files/'\n",
    "fname = 'cart_t1.mrd'\n",
    "data_file = tempfile.NamedTemporaryFile(mode='wb', delete=False, suffix='.mrd')\n",
    "\n",
    "# %%\n",
    "# Download raw data using requests\n",
    "response = requests.get(zenodo_url + fname, timeout=30)\n",
    "data_file.write(response.content)\n",
    "data_file.flush()"
   ]
  },
  {
   "cell_type": "markdown",
   "metadata": {},
   "source": [
    "### Read in MR raw data\n",
    "\n",
    "The data which we acquired in the last lecture with the open-source scanner is saved in an open-source vendor-agnostic\n",
    "raw data format called MRD (MR raw data). A MRD-file contains the acquired k-space data but also information about the\n",
    "dimensions of the k-space, where in k-space the data has been acquired and what the dimension and resolution of the \n",
    "final reconstructed image should be like. Lucky for us, the MRpro package does most of the work for us and therefore \n",
    "reading in a MRD file is as simple as:"
   ]
  },
  {
   "cell_type": "code",
   "execution_count": null,
   "metadata": {},
   "outputs": [],
   "source": [
    "from mrpro.data import KData\n",
    "from mrpro.data.traj_calculators import KTrajectoryCartesian\n",
    "kdata = KData.from_file(data_file.name, KTrajectoryCartesian())"
   ]
  },
  {
   "cell_type": "markdown",
   "metadata": {},
   "source": [
    "Apart from the filename we only had to provide information about the type of trajectory used to obtain the raw data. We\n",
    "know that we used a Cartesian sampling scheme and so we defined the trajectory with ```KTrajectoryCartesian()```. "
   ]
  },
  {
   "cell_type": "markdown",
   "metadata": {},
   "source": [
    "### Structure of MR raw data\n",
    "\n",
    "Now we can have a look at the kdata object and at some header parameters"
   ]
  },
  {
   "cell_type": "code",
   "execution_count": null,
   "metadata": {},
   "outputs": [],
   "source": [
    "print(kdata)"
   ]
  },
  {
   "cell_type": "code",
   "execution_count": null,
   "metadata": {},
   "outputs": [],
   "source": [
    "print(kdata.header.lamor_frequency_proton)"
   ]
  },
  {
   "cell_type": "markdown",
   "metadata": {},
   "source": [
    "### Acquisition model\n",
    "\n",
    "In the lectures we have always used a simple $A$ to describe the acquisition model without discussing how this is \n",
    "actually created. The acquisition model $A$ describe what happens during the acquisition process. This includes the \n",
    "Fourier encoding of the MR signal and the k-space sampling. All of the necessary information to create this linear model \n",
    "is part of the k-space data. So we can simply create $A$ by "
   ]
  },
  {
   "cell_type": "code",
   "execution_count": null,
   "metadata": {},
   "outputs": [],
   "source": [
    "from mrpro.operators import FourierOp\n",
    "acquisition_model = FourierOp.from_kdata(kdata)"
   ]
  },
  {
   "cell_type": "markdown",
   "metadata": {},
   "source": [
    "Now we can use the adjoint of the acquisition model to obtain a first reconstruction of our image"
   ]
  },
  {
   "cell_type": "code",
   "execution_count": null,
   "metadata": {},
   "outputs": [],
   "source": [
    "(img,) = acquisition_model.H(kdata.data)\n",
    "\n",
    "import matplotlib.pyplot as plt \n",
    "fig, ax = plt.subplots(2,4, squeeze=False)\n",
    "for idx, cax in enumerate(ax.flatten()):\n",
    "    cax.imshow(img.abs()[0,idx,0,:,:])"
   ]
  }
 ],
 "metadata": {
  "kernelspec": {
   "display_name": "Python 3",
   "language": "python",
   "name": "python3"
  },
  "language_info": {
   "codemirror_mode": {
    "name": "ipython",
    "version": 3
   },
   "file_extension": ".py",
   "mimetype": "text/x-python",
   "name": "python",
   "nbconvert_exporter": "python",
   "pygments_lexer": "ipython3",
   "version": "3.11.8"
  }
 },
 "nbformat": 4,
 "nbformat_minor": 2
}
